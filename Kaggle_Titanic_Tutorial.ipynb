{
  "nbformat": 4,
  "nbformat_minor": 0,
  "metadata": {
    "colab": {
      "name": "Kaggle-Titanic_Tutorial",
      "provenance": [],
      "collapsed_sections": [],
      "authorship_tag": "ABX9TyNI+JzNmPknIgccr2UIkaXT",
      "include_colab_link": true
    },
    "kernelspec": {
      "name": "python3",
      "display_name": "Python 3"
    }
  },
  "cells": [
    {
      "cell_type": "markdown",
      "metadata": {
        "id": "view-in-github",
        "colab_type": "text"
      },
      "source": [
        "<a href=\"https://colab.research.google.com/github/StringBottle/kaggle-titanic/blob/main/Kaggle_Titanic_Tutorial.ipynb\" target=\"_parent\"><img src=\"https://colab.research.google.com/assets/colab-badge.svg\" alt=\"Open In Colab\"/></a>"
      ]
    },
    {
      "cell_type": "markdown",
      "metadata": {
        "id": "1_0YukW6OiKS"
      },
      "source": [
        "# About"
      ]
    },
    {
      "cell_type": "markdown",
      "metadata": {
        "id": "fpQ109MkOvD7"
      },
      "source": [
        "### Kaggle Competition | Titanic Machine Learning from Disaster \n"
      ]
    },
    {
      "cell_type": "markdown",
      "metadata": {
        "id": "wW3PzFQrOl8X"
      },
      "source": [
        "#### Goal for this Notebook: \n",
        "\n",
        "End to end example of predicting survival of Titanic passengers with Google Colaboratory\n",
        "\n"
      ]
    },
    {
      "cell_type": "markdown",
      "metadata": {
        "id": "2oXgmDT5O8Wg"
      },
      "source": [
        "Data Handling \n",
        "* Getting dataset with Kaggle CLI\n",
        "* Importing Data with Pandas \n",
        "* Cleaning Data \n",
        "* Submitting predictions with Kaggle CLI\n",
        "* Mounting Google Drive as a partition in Google Colab\n",
        "* Using github for file transfer"
      ]
    },
    {
      "cell_type": "markdown",
      "metadata": {
        "id": "gwlx22TnPFxA"
      },
      "source": [
        "### 0. Define global variables \n",
        "\n",
        "These are *NOT HYPER PARAMETERS* and primarily for code maintenance"
      ]
    },
    {
      "cell_type": "code",
      "metadata": {
        "id": "h5WKzZc2PjuW"
      },
      "source": [
        "KAGGLE_COMPETITION_NAME='titanic'\n",
        "GDRIVE_ROOT='/content/my_google_drive'\n",
        "GDRIVE_KAGGLE_TITANIC='/content/my_google_drive/kaggle-titanic'\n",
        "GDRIVE_KAGGLE_TITANIC_AI_CODE='/content/my_google_drive/kaggle-titanic/kt-ai-code'\n",
        "RESULTS='/content/my_google_drive/kaggle-titanic/results'\n",
        "RESULT_CSV='/content/my_google_drive/kaggle-titanic/results/submission.csv'\n",
        "\n",
        "KAGGLE_CLI_COLAB_DATA='/content/.kaggle/competitions'\n",
        "KAGGLE_CLI_COLAB_ROOT='/content/.kaggle'\n",
        "\n",
        "IS_MAX_SCORE_SUBMISSION = True # create submission.csv of maximum result\n",
        "FINAL = False # indicate the predication using trained models is saved to CSV"
      ],
      "execution_count": 1,
      "outputs": []
    },
    {
      "cell_type": "markdown",
      "metadata": {
        "id": "C_nB0Zq1RsVu"
      },
      "source": [
        "### 1. Link google drive to google colaboratory file system \n",
        "\n",
        "This mounts the google drive as a file system in the google colaboratory Virtual Machine (VM)"
      ]
    },
    {
      "cell_type": "code",
      "metadata": {
        "colab": {
          "base_uri": "https://localhost:8080/"
        },
        "id": "CWPBzb2gR44_",
        "outputId": "e4044320-2241-42f4-afdc-73d80ba58bda"
      },
      "source": [
        "!apt-get install -y -qq software-properties-common python-software-properties module-init-tools\n",
        "!add-apt-repository -y ppa:alessandro-strada/ppa 2>&1 > /dev/null\n",
        "!apt-get update -qq 2>&1 > /dev/null\n",
        "!apt-get -y install -qq google-drive-ocamlfuse fuse\n",
        "from google.colab import auth\n",
        "auth.authenticate_user()\n",
        "from oauth2client.client import GoogleCredentials\n",
        "creds = GoogleCredentials.get_application_default()\n",
        "import getpass\n",
        "!google-drive-ocamlfuse -headless -id={creds.client_id} -secret={creds.client_secret} < /dev/null 2>&1 | grep URL\n",
        "vcode = getpass.getpass()\n",
        "!echo {vcode} | google-drive-ocamlfuse -headless -id={creds.client_id} -secret={creds.client_secret}"
      ],
      "execution_count": 2,
      "outputs": [
        {
          "output_type": "stream",
          "text": [
            "E: Package 'python-software-properties' has no installation candidate\n",
            "··········\n"
          ],
          "name": "stdout"
        }
      ]
    },
    {
      "cell_type": "markdown",
      "metadata": {
        "id": "FvguieqVSA5G"
      },
      "source": [
        "mount my google drive "
      ]
    },
    {
      "cell_type": "code",
      "metadata": {
        "id": "Mfz7Zje8R7PQ",
        "colab": {
          "base_uri": "https://localhost:8080/"
        },
        "outputId": "768d6804-08f6-46f5-8a74-feba192cac99"
      },
      "source": [
        "!mkdir -p my_google_drive\n",
        "!google-drive-ocamlfuse my_google_drive"
      ],
      "execution_count": 4,
      "outputs": [
        {
          "output_type": "stream",
          "text": [
            "fuse: mountpoint is not empty\n",
            "fuse: if you are sure this is safe, use the 'nonempty' mount option\n"
          ],
          "name": "stdout"
        }
      ]
    },
    {
      "cell_type": "markdown",
      "metadata": {
        "id": "02rWbTiiSF_e"
      },
      "source": [
        "#### Put titanic dataset into google drive "
      ]
    },
    {
      "cell_type": "markdown",
      "metadata": {
        "id": "IeoDJb4ESL-n"
      },
      "source": [
        "Create folder for competition data and AI "
      ]
    },
    {
      "cell_type": "code",
      "metadata": {
        "colab": {
          "base_uri": "https://localhost:8080/"
        },
        "id": "NodW2Az_STMp",
        "outputId": "5ed2b0f8-2daf-4aff-cab2-5095baeb694b"
      },
      "source": [
        "!ls $GDRIVE_ROOT"
      ],
      "execution_count": 11,
      "outputs": [
        {
          "output_type": "stream",
          "text": [
            "'구조물 영상분석 알고리즘 고도화(190610,초안).hwp'\n",
            " 2.crack_detection_result.jpg\n",
            "'BH&YN Daily Routine.desktop'\n",
            "'Colab Notebooks'\n",
            "'무인체_성과활용보고서_CTE3-4(시립대)_ver.0.2.hwp'\n",
            "'제목 없는 그림.desktop'\n",
            "'제목 없는 스프레드시트.desktop'\n",
            " 실험준비.desktop\n",
            "'fix case back.GIF'\n",
            "'굉장히 funny 한 레크레이션.pptx'\n",
            "'시립대 파워 거래명세서.hwp'\n",
            " KakaoTalk_Moim_PKuy8m3HNGlwjRp5pdvgjcGHaAzpn.jpg\n",
            "'NIA 2020년 중간결과보고_서울시설공단_200918.pptx'\n",
            "'NIA 2020년 중간결과보고 발표자료_서울시립대학교_200921.pptx'\n",
            "'Ⅴ._프로젝트_관리_인력_서울시립대(수정).pptx'\n",
            " S1.JPG\n",
            " S1.JPG.desktop\n",
            "'Untitled spreadsheet.desktop'\n",
            "'UOS_PT member(2016version).dwg'\n",
            "'Ⅲ. 기술 및 기능_v0.2(취합)_20180822_수정중.pptx'\n"
          ],
          "name": "stdout"
        }
      ]
    },
    {
      "cell_type": "code",
      "metadata": {
        "colab": {
          "base_uri": "https://localhost:8080/"
        },
        "id": "eaOnLOk-SWW6",
        "outputId": "0f00f7c6-1ee4-4465-fc45-efd4cc4a6410"
      },
      "source": [
        "!mkdir $GRIVE_ROOT/kaggle-titanic"
      ],
      "execution_count": 12,
      "outputs": [
        {
          "output_type": "stream",
          "text": [
            "mkdir: cannot create directory ‘/kaggle-titanic’: File exists\n"
          ],
          "name": "stdout"
        }
      ]
    },
    {
      "cell_type": "markdown",
      "metadata": {
        "id": "iJeHDwKNSbYW"
      },
      "source": [
        "check your related drive folder exist or not. "
      ]
    },
    {
      "cell_type": "code",
      "metadata": {
        "colab": {
          "base_uri": "https://localhost:8080/"
        },
        "id": "2EdNRxUKSgOg",
        "outputId": "eb360af7-b6e7-40c6-abee-3fd1cd1e17a1"
      },
      "source": [
        "!ls $GDRIVE_KAGGLE_TITANIC"
      ],
      "execution_count": 10,
      "outputs": [
        {
          "output_type": "stream",
          "text": [
            "ls: cannot access '/content/my_google_drive/kaggle-titanic': No such file or directory\n"
          ],
          "name": "stdout"
        }
      ]
    },
    {
      "cell_type": "markdown",
      "metadata": {
        "id": "wbhseWcLSjvh"
      },
      "source": [
        "#### Link to Kaggle \n",
        "\n",
        "Use the Kaggle CLI to get the competition dataset "
      ]
    },
    {
      "cell_type": "markdown",
      "metadata": {
        "id": "A_H2_bI5TODV"
      },
      "source": [
        "Install kaggle"
      ]
    },
    {
      "cell_type": "code",
      "metadata": {
        "colab": {
          "base_uri": "https://localhost:8080/"
        },
        "id": "d1G3iPD7TP1W",
        "outputId": "c5c3b824-fe3c-4bcc-dede-15050216a601"
      },
      "source": [
        "!pip install kaggle"
      ],
      "execution_count": 7,
      "outputs": [
        {
          "output_type": "stream",
          "text": [
            "Requirement already satisfied: kaggle in /usr/local/lib/python3.6/dist-packages (1.5.9)\n",
            "Requirement already satisfied: certifi in /usr/local/lib/python3.6/dist-packages (from kaggle) (2020.6.20)\n",
            "Requirement already satisfied: six>=1.10 in /usr/local/lib/python3.6/dist-packages (from kaggle) (1.15.0)\n",
            "Requirement already satisfied: tqdm in /usr/local/lib/python3.6/dist-packages (from kaggle) (4.41.1)\n",
            "Requirement already satisfied: requests in /usr/local/lib/python3.6/dist-packages (from kaggle) (2.23.0)\n",
            "Requirement already satisfied: slugify in /usr/local/lib/python3.6/dist-packages (from kaggle) (0.0.1)\n",
            "Requirement already satisfied: urllib3 in /usr/local/lib/python3.6/dist-packages (from kaggle) (1.24.3)\n",
            "Requirement already satisfied: python-slugify in /usr/local/lib/python3.6/dist-packages (from kaggle) (4.0.1)\n",
            "Requirement already satisfied: python-dateutil in /usr/local/lib/python3.6/dist-packages (from kaggle) (2.8.1)\n",
            "Requirement already satisfied: chardet<4,>=3.0.2 in /usr/local/lib/python3.6/dist-packages (from requests->kaggle) (3.0.4)\n",
            "Requirement already satisfied: idna<3,>=2.5 in /usr/local/lib/python3.6/dist-packages (from requests->kaggle) (2.10)\n",
            "Requirement already satisfied: text-unidecode>=1.3 in /usr/local/lib/python3.6/dist-packages (from python-slugify->kaggle) (1.3)\n"
          ],
          "name": "stdout"
        }
      ]
    },
    {
      "cell_type": "markdown",
      "metadata": {
        "id": "I0QfBQGFTREt"
      },
      "source": [
        "#### Kaggle API Credentials\n"
      ]
    },
    {
      "cell_type": "markdown",
      "metadata": {
        "id": "sF271ojDTdyn"
      },
      "source": [
        "To use the Kaggle API, sign up for a Kaggle account at https://www.kaggle.com. Then go to the 'Account' tab of your user profile (https://www.kaggle.com//account) and select 'Create API Token'. This will trigger the download of kaggle.json, a file containing your API credentials.\n",
        "\n",
        "Place this file on your Google Drive anywhere.\n",
        "\n",
        "With the next snippet you download your credentials to Colab and you can start using Kaggle API"
      ]
    },
    {
      "cell_type": "code",
      "metadata": {
        "colab": {
          "base_uri": "https://localhost:8080/"
        },
        "id": "pD0NnD_nTeeA",
        "outputId": "c6936d65-4e8a-4800-9652-a0550ba752f8"
      },
      "source": [
        "from googleapiclient.discovery import build\n",
        "import io, os\n",
        "from googleapiclient.http import MediaIoBaseDownload\n",
        "from google.colab import auth\n",
        "\n",
        "auth.authenticate_user()\n",
        "\n",
        "drive_service = build('drive', 'v3')\n",
        "results = drive_service.files().list(\n",
        "        q=\"name = 'kaggle.json'\", fields=\"files(id)\").execute()\n",
        "kaggle_api_key = results.get('files', [])\n",
        "\n",
        "filename = \"/content/.kaggle/kaggle.json\"\n",
        "os.makedirs(os.path.dirname(filename), exist_ok=True)\n",
        "\n",
        "request = drive_service.files().get_media(fileId=kaggle_api_key[0]['id'])\n",
        "fh = io.FileIO(filename, 'wb')\n",
        "downloader = MediaIoBaseDownload(fh, request)\n",
        "done = False\n",
        "while done is False:\n",
        "    status, done = downloader.next_chunk()\n",
        "    print(\"Download %d%%.\" % int(status.progress() * 100))\n",
        "os.chmod(filename, 600)"
      ],
      "execution_count": 9,
      "outputs": [
        {
          "output_type": "stream",
          "text": [
            "Download 100%.\n"
          ],
          "name": "stdout"
        }
      ]
    },
    {
      "cell_type": "markdown",
      "metadata": {
        "id": "TQ7bRJFiTg-a"
      },
      "source": [
        "##### confirm transfer of kaggle api keys to google colab"
      ]
    },
    {
      "cell_type": "code",
      "metadata": {
        "colab": {
          "base_uri": "https://localhost:8080/"
        },
        "id": "-cfZQoCGUB10",
        "outputId": "568b5d78-ef75-47c5-ab8a-53ae4b4fdadf"
      },
      "source": [
        "!Is $KAGGLE_CLI_COLAB_ROOT/kaggle.json"
      ],
      "execution_count": 11,
      "outputs": [
        {
          "output_type": "stream",
          "text": [
            "/bin/bash: Is: command not found\n"
          ],
          "name": "stdout"
        }
      ]
    },
    {
      "cell_type": "code",
      "metadata": {
        "id": "y9uFvU1uUG2q"
      },
      "source": [
        ""
      ],
      "execution_count": null,
      "outputs": []
    }
  ]
}