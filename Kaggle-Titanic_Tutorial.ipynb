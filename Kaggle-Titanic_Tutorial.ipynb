{
  "nbformat": 4,
  "nbformat_minor": 0,
  "metadata": {
    "colab": {
      "name": "Untitled",
      "provenance": [],
      "authorship_tag": "ABX9TyMzaQ6KBLH1jPzCDijj4m4G",
      "include_colab_link": true
    },
    "kernelspec": {
      "name": "python3",
      "display_name": "Python 3"
    }
  },
  "cells": [
    {
      "cell_type": "markdown",
      "metadata": {
        "id": "view-in-github",
        "colab_type": "text"
      },
      "source": [
        "<a href=\"https://colab.research.google.com/github/StringBottle/kaggle-titanic/blob/main/Kaggle-Titanic_Tutorial.ipynb\" target=\"_parent\"><img src=\"https://colab.research.google.com/assets/colab-badge.svg\" alt=\"Open In Colab\"/></a>"
      ]
    },
    {
      "cell_type": "code",
      "metadata": {
        "id": "JONKj2r0Q3eq"
      },
      "source": [
        ""
      ],
      "execution_count": null,
      "outputs": []
    },
    {
      "cell_type": "markdown",
      "metadata": {
        "id": "1_0YukW6OiKS"
      },
      "source": [
        "# About"
      ]
    },
    {
      "cell_type": "markdown",
      "metadata": {
        "id": "fpQ109MkOvD7"
      },
      "source": [
        "### Kaggle Competition | Titanic Machine Learning from Disaster \n"
      ]
    },
    {
      "cell_type": "markdown",
      "metadata": {
        "id": "wW3PzFQrOl8X"
      },
      "source": [
        "#### Goal for this Notebook: \n",
        "\n",
        "End to end example of predicting survival of Titanic passengers with Google Colaboratory\n",
        "\n"
      ]
    },
    {
      "cell_type": "markdown",
      "metadata": {
        "id": "2oXgmDT5O8Wg"
      },
      "source": [
        "Data Handling \n",
        "* Getting dataset with Kaggle CLI\n",
        "* Importing Data with Pandas \n",
        "* Cleaning Data \n",
        "* Submitting predictions with Kaggle CLI\n",
        "* Mounting Google Drive as a partition in Google Colab\n",
        "* Using github for file transfer"
      ]
    },
    {
      "cell_type": "markdown",
      "metadata": {
        "id": "gwlx22TnPFxA"
      },
      "source": [
        "### 0. Define global variables \n",
        "\n",
        "These are *NOT HYPER PARAMETERS* and primarily for code maintenance"
      ]
    },
    {
      "cell_type": "code",
      "metadata": {
        "id": "h5WKzZc2PjuW"
      },
      "source": [
        "KAGGLE_COMPETITION_NAME='titanic'\n",
        "GDRIVE_ROOT='/content/my_google_drive'\n",
        "GDRIVE_KAGGLE_TITANIC='content/my_google_drive/kaggle-titanic'\n",
        "GDRIVE_KAGGLE_TITANIC_AI_CODE='content/my_google_drive/kaggle-titanic/kt-ai-code'\n",
        "RESULTS='/' "
      ],
      "execution_count": null,
      "outputs": []
    }
  ]
}